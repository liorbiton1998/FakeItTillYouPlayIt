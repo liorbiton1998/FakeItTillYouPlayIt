{
  "nbformat": 4,
  "nbformat_minor": 0,
  "metadata": {
    "colab": {
      "provenance": []
    },
    "kernelspec": {
      "name": "python3",
      "display_name": "Python 3"
    },
    "language_info": {
      "name": "python"
    }
  },
  "cells": [
    {
      "cell_type": "markdown",
      "source": [
        "# imports & installs"
      ],
      "metadata": {
        "id": "sj3BJ4jZcBcC"
      }
    },
    {
      "cell_type": "code",
      "source": [
        "!pip install google-play-scraper tqdm\n",
        "\n",
        "import pandas as pd\n",
        "import time\n",
        "import signal\n",
        "from google.colab import files\n",
        "from google_play_scraper import reviews\n",
        "from tqdm import tqdm\n"
      ],
      "metadata": {
        "colab": {
          "base_uri": "https://localhost:8080/"
        },
        "id": "r_vF2rFcHCA1",
        "outputId": "45fea160-3e4a-428e-b789-2a3384bcdf79",
        "collapsed": true
      },
      "execution_count": null,
      "outputs": [
        {
          "output_type": "stream",
          "name": "stdout",
          "text": [
            "Requirement already satisfied: google-play-scraper in /usr/local/lib/python3.11/dist-packages (1.2.7)\n",
            "Requirement already satisfied: tqdm in /usr/local/lib/python3.11/dist-packages (4.67.1)\n"
          ]
        }
      ]
    },
    {
      "cell_type": "code",
      "source": [
        "app_data = [\n",
        "    {\"game_name\": \"Hero Wars: Alliance RPG\", \"google_play_link\": \"https://play.google.com/store/apps/details?id=com.nexters.herowars\"},\n",
        "    {\"game_name\": \"Hustle Castle・Medieval Kingdom\", \"google_play_link\": \"https://play.google.com/store/apps/details?id=com.my.hc.rpg.kingdom.simulator\"},\n",
        "    {\"game_name\": \"Project Makeover\", \"google_play_link\": \"https://play.google.com/store/apps/details?id=com.bgg.jump\"},\n",
        "    {\"game_name\": \"last fortress\", \"google_play_link\": \"https://play.google.com/store/apps/details?id=com.more.lastfortress.gp\"},\n",
        "    {\"game_name\": \"Puzzles and survival\", \"google_play_link\": \"https://play.google.com/store/apps/details?id=com.global.ztmslg\"},\n",
        "]"
      ],
      "metadata": {
        "id": "6fSbcIgqcSzk"
      },
      "execution_count": null,
      "outputs": []
    },
    {
      "cell_type": "code",
      "source": [
        "class TimeoutException(Exception):\n",
        "    pass\n",
        "\n",
        "def timeout_handler(signum, frame):\n",
        "    raise TimeoutException(\"Scraping took too long\")"
      ],
      "metadata": {
        "id": "xwG9MblBccTv"
      },
      "execution_count": null,
      "outputs": []
    },
    {
      "cell_type": "markdown",
      "source": [
        "# Google Play Scraping Function"
      ],
      "metadata": {
        "id": "WJQeFwO0cgKX"
      }
    },
    {
      "cell_type": "code",
      "source": [
        "def scrape_google_play(app_id, limit=10000, timeout=300):\n",
        "    unique_reviews = set()\n",
        "    all_reviews = []\n",
        "    continuation_token = None\n",
        "\n",
        "    signal.signal(signal.SIGALRM, timeout_handler)\n",
        "    signal.alarm(timeout)\n",
        "\n",
        "    try:\n",
        "        with tqdm(total=limit, desc=\"Google Play reviews\") as pbar:\n",
        "            while len(all_reviews) < limit:\n",
        "                batch, continuation_token = reviews(\n",
        "                    app_id,\n",
        "                    lang='en',\n",
        "                    country='us',\n",
        "                    count=100,\n",
        "                    continuation_token=continuation_token\n",
        "                )\n",
        "\n",
        "                for review in batch:\n",
        "                    if review['reviewId'] not in unique_reviews:\n",
        "                        unique_reviews.add(review['reviewId'])\n",
        "                        all_reviews.append(review)\n",
        "                        pbar.update(1)\n",
        "\n",
        "                if not continuation_token:\n",
        "                    break\n",
        "\n",
        "                time.sleep(1)\n",
        "    except TimeoutException:\n",
        "        print(f\"Google Play scraping timed out after {timeout} seconds\")\n",
        "    finally:\n",
        "        signal.alarm(0)\n",
        "\n",
        "    return pd.DataFrame(all_reviews[:limit])\n"
      ],
      "metadata": {
        "id": "YWabH25AcmhC"
      },
      "execution_count": null,
      "outputs": []
    },
    {
      "cell_type": "markdown",
      "source": [
        "# Main Scraping Loop"
      ],
      "metadata": {
        "id": "V5i7M51FcryD"
      }
    },
    {
      "cell_type": "code",
      "source": [
        "for app in app_data:\n",
        "    game_name = app[\"game_name\"]\n",
        "    google_play_id = app[\"google_play_link\"].split('id=')[-1].split('&')[0]\n",
        "\n",
        "    print(f\"\\nScraping reviews for {game_name}\")\n",
        "    print(f\"Google Play ID: {google_play_id}\")\n",
        "\n",
        "    gp_reviews = pd.DataFrame()\n",
        "\n",
        "    try:\n",
        "        gp_reviews = scrape_google_play(google_play_id, timeout=300)\n",
        "        print(f\"Google Play reviews scraped: {len(gp_reviews)}\")\n",
        "    except Exception as e:\n",
        "        print(f\"Error scraping Google Play reviews: {str(e)}\")\n",
        "\n",
        "    output_file = f\"{game_name.replace(' ', '_')}_reviews.csv\"\n",
        "    gp_reviews.to_csv(output_file, index=False)\n",
        "    print(f\"Total unique reviews scraped for {game_name}: {len(gp_reviews)}\")\n",
        "\n",
        "    files.download(output_file)"
      ],
      "metadata": {
        "colab": {
          "base_uri": "https://localhost:8080/",
          "height": 553
        },
        "id": "Qjs0UuMqcu0e",
        "outputId": "3e055e63-360f-4420-87b8-e92b9fda21cf",
        "collapsed": true
      },
      "execution_count": null,
      "outputs": [
        {
          "output_type": "stream",
          "name": "stdout",
          "text": [
            "\n",
            "Scraping reviews for Hero Wars: Alliance RPG\n",
            "Google Play ID: com.nexters.herowars\n"
          ]
        },
        {
          "output_type": "stream",
          "name": "stderr",
          "text": [
            "Google Play reviews: 100%|██████████| 10000/10000 [01:59<00:00, 83.47it/s]\n"
          ]
        },
        {
          "output_type": "stream",
          "name": "stdout",
          "text": [
            "Google Play reviews scraped: 10000\n",
            "Total unique reviews scraped for Hero Wars: Alliance RPG: 10000\n"
          ]
        },
        {
          "output_type": "display_data",
          "data": {
            "text/plain": [
              "<IPython.core.display.Javascript object>"
            ],
            "application/javascript": [
              "\n",
              "    async function download(id, filename, size) {\n",
              "      if (!google.colab.kernel.accessAllowed) {\n",
              "        return;\n",
              "      }\n",
              "      const div = document.createElement('div');\n",
              "      const label = document.createElement('label');\n",
              "      label.textContent = `Downloading \"${filename}\": `;\n",
              "      div.appendChild(label);\n",
              "      const progress = document.createElement('progress');\n",
              "      progress.max = size;\n",
              "      div.appendChild(progress);\n",
              "      document.body.appendChild(div);\n",
              "\n",
              "      const buffers = [];\n",
              "      let downloaded = 0;\n",
              "\n",
              "      const channel = await google.colab.kernel.comms.open(id);\n",
              "      // Send a message to notify the kernel that we're ready.\n",
              "      channel.send({})\n",
              "\n",
              "      for await (const message of channel.messages) {\n",
              "        // Send a message to notify the kernel that we're ready.\n",
              "        channel.send({})\n",
              "        if (message.buffers) {\n",
              "          for (const buffer of message.buffers) {\n",
              "            buffers.push(buffer);\n",
              "            downloaded += buffer.byteLength;\n",
              "            progress.value = downloaded;\n",
              "          }\n",
              "        }\n",
              "      }\n",
              "      const blob = new Blob(buffers, {type: 'application/binary'});\n",
              "      const a = document.createElement('a');\n",
              "      a.href = window.URL.createObjectURL(blob);\n",
              "      a.download = filename;\n",
              "      div.appendChild(a);\n",
              "      a.click();\n",
              "      div.remove();\n",
              "    }\n",
              "  "
            ]
          },
          "metadata": {}
        },
        {
          "output_type": "display_data",
          "data": {
            "text/plain": [
              "<IPython.core.display.Javascript object>"
            ],
            "application/javascript": [
              "download(\"download_290431f1-05bb-45ae-8a15-b7c2b19b6336\", \"Hero_Wars:_Alliance_RPG_reviews.csv\", 4197527)"
            ]
          },
          "metadata": {}
        },
        {
          "output_type": "stream",
          "name": "stdout",
          "text": [
            "\n",
            "Scraping reviews for Hustle Castle・Medieval Kingdom\n",
            "Google Play ID: com.my.hc.rpg.kingdom.simulator\n"
          ]
        },
        {
          "output_type": "stream",
          "name": "stderr",
          "text": [
            "Google Play reviews: 100%|██████████| 10000/10000 [01:59<00:00, 83.74it/s]\n"
          ]
        },
        {
          "output_type": "stream",
          "name": "stdout",
          "text": [
            "Google Play reviews scraped: 10000\n",
            "Total unique reviews scraped for Hustle Castle・Medieval Kingdom: 10000\n"
          ]
        },
        {
          "output_type": "display_data",
          "data": {
            "text/plain": [
              "<IPython.core.display.Javascript object>"
            ],
            "application/javascript": [
              "\n",
              "    async function download(id, filename, size) {\n",
              "      if (!google.colab.kernel.accessAllowed) {\n",
              "        return;\n",
              "      }\n",
              "      const div = document.createElement('div');\n",
              "      const label = document.createElement('label');\n",
              "      label.textContent = `Downloading \"${filename}\": `;\n",
              "      div.appendChild(label);\n",
              "      const progress = document.createElement('progress');\n",
              "      progress.max = size;\n",
              "      div.appendChild(progress);\n",
              "      document.body.appendChild(div);\n",
              "\n",
              "      const buffers = [];\n",
              "      let downloaded = 0;\n",
              "\n",
              "      const channel = await google.colab.kernel.comms.open(id);\n",
              "      // Send a message to notify the kernel that we're ready.\n",
              "      channel.send({})\n",
              "\n",
              "      for await (const message of channel.messages) {\n",
              "        // Send a message to notify the kernel that we're ready.\n",
              "        channel.send({})\n",
              "        if (message.buffers) {\n",
              "          for (const buffer of message.buffers) {\n",
              "            buffers.push(buffer);\n",
              "            downloaded += buffer.byteLength;\n",
              "            progress.value = downloaded;\n",
              "          }\n",
              "        }\n",
              "      }\n",
              "      const blob = new Blob(buffers, {type: 'application/binary'});\n",
              "      const a = document.createElement('a');\n",
              "      a.href = window.URL.createObjectURL(blob);\n",
              "      a.download = filename;\n",
              "      div.appendChild(a);\n",
              "      a.click();\n",
              "      div.remove();\n",
              "    }\n",
              "  "
            ]
          },
          "metadata": {}
        },
        {
          "output_type": "display_data",
          "data": {
            "text/plain": [
              "<IPython.core.display.Javascript object>"
            ],
            "application/javascript": [
              "download(\"download_10bf2ec7-f4df-4935-a7af-7999bbbf2dcc\", \"Hustle_Castle\\u30fbMedieval_Kingdom_reviews.csv\", 4043255)"
            ]
          },
          "metadata": {}
        },
        {
          "output_type": "stream",
          "name": "stdout",
          "text": [
            "\n",
            "Scraping reviews for Project Makeover\n",
            "Google Play ID: com.bgg.jump\n"
          ]
        },
        {
          "output_type": "stream",
          "name": "stderr",
          "text": [
            "Google Play reviews: 100%|██████████| 10000/10000 [01:59<00:00, 83.56it/s]\n"
          ]
        },
        {
          "output_type": "stream",
          "name": "stdout",
          "text": [
            "Google Play reviews scraped: 10000\n",
            "Total unique reviews scraped for Project Makeover: 10000\n"
          ]
        },
        {
          "output_type": "display_data",
          "data": {
            "text/plain": [
              "<IPython.core.display.Javascript object>"
            ],
            "application/javascript": [
              "\n",
              "    async function download(id, filename, size) {\n",
              "      if (!google.colab.kernel.accessAllowed) {\n",
              "        return;\n",
              "      }\n",
              "      const div = document.createElement('div');\n",
              "      const label = document.createElement('label');\n",
              "      label.textContent = `Downloading \"${filename}\": `;\n",
              "      div.appendChild(label);\n",
              "      const progress = document.createElement('progress');\n",
              "      progress.max = size;\n",
              "      div.appendChild(progress);\n",
              "      document.body.appendChild(div);\n",
              "\n",
              "      const buffers = [];\n",
              "      let downloaded = 0;\n",
              "\n",
              "      const channel = await google.colab.kernel.comms.open(id);\n",
              "      // Send a message to notify the kernel that we're ready.\n",
              "      channel.send({})\n",
              "\n",
              "      for await (const message of channel.messages) {\n",
              "        // Send a message to notify the kernel that we're ready.\n",
              "        channel.send({})\n",
              "        if (message.buffers) {\n",
              "          for (const buffer of message.buffers) {\n",
              "            buffers.push(buffer);\n",
              "            downloaded += buffer.byteLength;\n",
              "            progress.value = downloaded;\n",
              "          }\n",
              "        }\n",
              "      }\n",
              "      const blob = new Blob(buffers, {type: 'application/binary'});\n",
              "      const a = document.createElement('a');\n",
              "      a.href = window.URL.createObjectURL(blob);\n",
              "      a.download = filename;\n",
              "      div.appendChild(a);\n",
              "      a.click();\n",
              "      div.remove();\n",
              "    }\n",
              "  "
            ]
          },
          "metadata": {}
        },
        {
          "output_type": "display_data",
          "data": {
            "text/plain": [
              "<IPython.core.display.Javascript object>"
            ],
            "application/javascript": [
              "download(\"download_8a1f597c-cd7d-46fa-9cd4-3329913fd41b\", \"Project_Makeover_reviews.csv\", 2623921)"
            ]
          },
          "metadata": {}
        },
        {
          "output_type": "stream",
          "name": "stdout",
          "text": [
            "\n",
            "Scraping reviews for last fortress\n",
            "Google Play ID: com.more.lastfortress.gp\n"
          ]
        },
        {
          "output_type": "stream",
          "name": "stderr",
          "text": [
            "Google Play reviews: 100%|██████████| 10000/10000 [01:59<00:00, 83.57it/s]\n"
          ]
        },
        {
          "output_type": "stream",
          "name": "stdout",
          "text": [
            "Google Play reviews scraped: 10000\n",
            "Total unique reviews scraped for last fortress: 10000\n"
          ]
        },
        {
          "output_type": "display_data",
          "data": {
            "text/plain": [
              "<IPython.core.display.Javascript object>"
            ],
            "application/javascript": [
              "\n",
              "    async function download(id, filename, size) {\n",
              "      if (!google.colab.kernel.accessAllowed) {\n",
              "        return;\n",
              "      }\n",
              "      const div = document.createElement('div');\n",
              "      const label = document.createElement('label');\n",
              "      label.textContent = `Downloading \"${filename}\": `;\n",
              "      div.appendChild(label);\n",
              "      const progress = document.createElement('progress');\n",
              "      progress.max = size;\n",
              "      div.appendChild(progress);\n",
              "      document.body.appendChild(div);\n",
              "\n",
              "      const buffers = [];\n",
              "      let downloaded = 0;\n",
              "\n",
              "      const channel = await google.colab.kernel.comms.open(id);\n",
              "      // Send a message to notify the kernel that we're ready.\n",
              "      channel.send({})\n",
              "\n",
              "      for await (const message of channel.messages) {\n",
              "        // Send a message to notify the kernel that we're ready.\n",
              "        channel.send({})\n",
              "        if (message.buffers) {\n",
              "          for (const buffer of message.buffers) {\n",
              "            buffers.push(buffer);\n",
              "            downloaded += buffer.byteLength;\n",
              "            progress.value = downloaded;\n",
              "          }\n",
              "        }\n",
              "      }\n",
              "      const blob = new Blob(buffers, {type: 'application/binary'});\n",
              "      const a = document.createElement('a');\n",
              "      a.href = window.URL.createObjectURL(blob);\n",
              "      a.download = filename;\n",
              "      div.appendChild(a);\n",
              "      a.click();\n",
              "      div.remove();\n",
              "    }\n",
              "  "
            ]
          },
          "metadata": {}
        },
        {
          "output_type": "display_data",
          "data": {
            "text/plain": [
              "<IPython.core.display.Javascript object>"
            ],
            "application/javascript": [
              "download(\"download_fd33fc9c-6a2f-4ddf-873f-e26686057135\", \"last_fortress_reviews.csv\", 5948106)"
            ]
          },
          "metadata": {}
        },
        {
          "output_type": "stream",
          "name": "stdout",
          "text": [
            "\n",
            "Scraping reviews for Puzzles and survival\n",
            "Google Play ID: com.global.ztmslg\n"
          ]
        },
        {
          "output_type": "stream",
          "name": "stderr",
          "text": [
            "Google Play reviews: 100%|██████████| 10000/10000 [02:00<00:00, 83.31it/s]\n"
          ]
        },
        {
          "output_type": "stream",
          "name": "stdout",
          "text": [
            "Google Play reviews scraped: 10000\n",
            "Total unique reviews scraped for Puzzles and survival: 10000\n"
          ]
        },
        {
          "output_type": "display_data",
          "data": {
            "text/plain": [
              "<IPython.core.display.Javascript object>"
            ],
            "application/javascript": [
              "\n",
              "    async function download(id, filename, size) {\n",
              "      if (!google.colab.kernel.accessAllowed) {\n",
              "        return;\n",
              "      }\n",
              "      const div = document.createElement('div');\n",
              "      const label = document.createElement('label');\n",
              "      label.textContent = `Downloading \"${filename}\": `;\n",
              "      div.appendChild(label);\n",
              "      const progress = document.createElement('progress');\n",
              "      progress.max = size;\n",
              "      div.appendChild(progress);\n",
              "      document.body.appendChild(div);\n",
              "\n",
              "      const buffers = [];\n",
              "      let downloaded = 0;\n",
              "\n",
              "      const channel = await google.colab.kernel.comms.open(id);\n",
              "      // Send a message to notify the kernel that we're ready.\n",
              "      channel.send({})\n",
              "\n",
              "      for await (const message of channel.messages) {\n",
              "        // Send a message to notify the kernel that we're ready.\n",
              "        channel.send({})\n",
              "        if (message.buffers) {\n",
              "          for (const buffer of message.buffers) {\n",
              "            buffers.push(buffer);\n",
              "            downloaded += buffer.byteLength;\n",
              "            progress.value = downloaded;\n",
              "          }\n",
              "        }\n",
              "      }\n",
              "      const blob = new Blob(buffers, {type: 'application/binary'});\n",
              "      const a = document.createElement('a');\n",
              "      a.href = window.URL.createObjectURL(blob);\n",
              "      a.download = filename;\n",
              "      div.appendChild(a);\n",
              "      a.click();\n",
              "      div.remove();\n",
              "    }\n",
              "  "
            ]
          },
          "metadata": {}
        },
        {
          "output_type": "display_data",
          "data": {
            "text/plain": [
              "<IPython.core.display.Javascript object>"
            ],
            "application/javascript": [
              "download(\"download_3cca36a5-9bf1-427b-a861-e9a0ffc27b52\", \"Puzzles_and_survival_reviews.csv\", 3676581)"
            ]
          },
          "metadata": {}
        }
      ]
    }
  ]
}